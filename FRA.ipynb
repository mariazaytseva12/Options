{
 "cells": [
  {
   "cell_type": "code",
   "execution_count": 27,
   "id": "01a45af0",
   "metadata": {},
   "outputs": [],
   "source": [
    "import numpy as np\n",
    "import pandas as pd"
   ]
  },
  {
   "cell_type": "code",
   "execution_count": 90,
   "id": "96719cf0",
   "metadata": {},
   "outputs": [],
   "source": [
    "def FRA_fixed(rate_long, rate_short, days_start, days_end):\n",
    "    nominator = 1 + rate_long * ((days_end) / 360)\n",
    "    denominator = 1 + rate_short * ((days_start) / 360)\n",
    "    fra = (nominator / denominator - 1) * (360 / (days_end - days_start))\n",
    "    time_start = int(days_start/30)\n",
    "    time_end = int(((days_end - days_start))/30)\n",
    "    time = time_start,\"x\",time_end\n",
    "    return {fra:time}"
   ]
  },
  {
   "cell_type": "code",
   "execution_count": 91,
   "id": "45270a00",
   "metadata": {},
   "outputs": [
    {
     "data": {
      "text/plain": [
       "{0.0565253532834582: (1, 'x', 3)}"
      ]
     },
     "execution_count": 91,
     "metadata": {},
     "output_type": "execute_result"
    }
   ],
   "source": [
    "FRA_fixed(0.05, 0.03, 30, 120)"
   ]
  },
  {
   "cell_type": "code",
   "execution_count": 92,
   "id": "aae3efc3",
   "metadata": {},
   "outputs": [],
   "source": [
    "df = pd.read_csv(\"USD rates.csv\")"
   ]
  },
  {
   "cell_type": "code",
   "execution_count": 93,
   "id": "72539c56",
   "metadata": {},
   "outputs": [],
   "source": [
    "libor = df[\"Unnamed: 1\"][0]"
   ]
  },
  {
   "cell_type": "code",
   "execution_count": 94,
   "id": "a9479e80",
   "metadata": {},
   "outputs": [
    {
     "data": {
      "text/html": [
       "<div>\n",
       "<style scoped>\n",
       "    .dataframe tbody tr th:only-of-type {\n",
       "        vertical-align: middle;\n",
       "    }\n",
       "\n",
       "    .dataframe tbody tr th {\n",
       "        vertical-align: top;\n",
       "    }\n",
       "\n",
       "    .dataframe thead th {\n",
       "        text-align: right;\n",
       "    }\n",
       "</style>\n",
       "<table border=\"1\" class=\"dataframe\">\n",
       "  <thead>\n",
       "    <tr style=\"text-align: right;\">\n",
       "      <th></th>\n",
       "      <th>Rates</th>\n",
       "    </tr>\n",
       "  </thead>\n",
       "  <tbody>\n",
       "    <tr>\n",
       "      <th>0</th>\n",
       "      <td>0.19014</td>\n",
       "    </tr>\n",
       "    <tr>\n",
       "      <th>1</th>\n",
       "      <td>0.21573</td>\n",
       "    </tr>\n",
       "    <tr>\n",
       "      <th>2</th>\n",
       "      <td>0.32165</td>\n",
       "    </tr>\n",
       "    <tr>\n",
       "      <th>3</th>\n",
       "      <td>0.48287</td>\n",
       "    </tr>\n",
       "    <tr>\n",
       "      <th>4</th>\n",
       "      <td>0.70951</td>\n",
       "    </tr>\n",
       "    <tr>\n",
       "      <th>5</th>\n",
       "      <td>0.89636</td>\n",
       "    </tr>\n",
       "    <tr>\n",
       "      <th>6</th>\n",
       "      <td>1.08839</td>\n",
       "    </tr>\n",
       "    <tr>\n",
       "      <th>7</th>\n",
       "      <td>1.32104</td>\n",
       "    </tr>\n",
       "    <tr>\n",
       "      <th>8</th>\n",
       "      <td>1.42880</td>\n",
       "    </tr>\n",
       "    <tr>\n",
       "      <th>9</th>\n",
       "      <td>1.52688</td>\n",
       "    </tr>\n",
       "    <tr>\n",
       "      <th>10</th>\n",
       "      <td>1.60387</td>\n",
       "    </tr>\n",
       "    <tr>\n",
       "      <th>11</th>\n",
       "      <td>1.68196</td>\n",
       "    </tr>\n",
       "  </tbody>\n",
       "</table>\n",
       "</div>"
      ],
      "text/plain": [
       "      Rates\n",
       "0   0.19014\n",
       "1   0.21573\n",
       "2   0.32165\n",
       "3   0.48287\n",
       "4   0.70951\n",
       "5   0.89636\n",
       "6   1.08839\n",
       "7   1.32104\n",
       "8   1.42880\n",
       "9   1.52688\n",
       "10  1.60387\n",
       "11  1.68196"
      ]
     },
     "execution_count": 94,
     "metadata": {},
     "output_type": "execute_result"
    }
   ],
   "source": [
    "rates = pd.DataFrame(list(100 - df[\"Unnamed: 1\"] + df[\"Conv, adj\"])).dropna().reset_index()\n",
    "rates.drop(\"index\", axis = 1, inplace=True)\n",
    "rates.rename(columns={0: \"Rates\"}, inplace = True)\n",
    "rates"
   ]
  },
  {
   "cell_type": "code",
   "execution_count": 95,
   "id": "5ddce717",
   "metadata": {},
   "outputs": [],
   "source": [
    "times = []\n",
    "for i in range(1, len(df)):\n",
    "    time = 90 + i * 30\n",
    "    times.append(time)\n",
    "time = pd.DataFrame(times)\n",
    "time.rename(columns={0: \"Days\"}, inplace = True)"
   ]
  },
  {
   "cell_type": "code",
   "execution_count": 96,
   "id": "6994fb0c",
   "metadata": {},
   "outputs": [],
   "source": [
    "df1 = pd.concat([time, rates], axis=1)"
   ]
  },
  {
   "cell_type": "code",
   "execution_count": 98,
   "id": "5a736177",
   "metadata": {},
   "outputs": [
    {
     "data": {
      "text/plain": [
       "{0.299131072617528: (4, 'x', 1)}"
      ]
     },
     "execution_count": 98,
     "metadata": {},
     "output_type": "execute_result"
    }
   ],
   "source": [
    "FRA_fixed(df1[\"Rates\"][1], df1[\"Rates\"][0], df1[\"Days\"][0], df1[\"Days\"][1])"
   ]
  },
  {
   "cell_type": "code",
   "execution_count": null,
   "id": "255dbe7b",
   "metadata": {},
   "outputs": [],
   "source": []
  }
 ],
 "metadata": {
  "kernelspec": {
   "display_name": "Python 3",
   "language": "python",
   "name": "python3"
  },
  "language_info": {
   "codemirror_mode": {
    "name": "ipython",
    "version": 3
   },
   "file_extension": ".py",
   "mimetype": "text/x-python",
   "name": "python",
   "nbconvert_exporter": "python",
   "pygments_lexer": "ipython3",
   "version": "3.8.8"
  }
 },
 "nbformat": 4,
 "nbformat_minor": 5
}
